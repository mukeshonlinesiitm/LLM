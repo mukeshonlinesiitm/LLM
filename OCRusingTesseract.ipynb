{
  "nbformat": 4,
  "nbformat_minor": 0,
  "metadata": {
    "colab": {
      "name": "OCRusingTesseract.ipynb",
      "provenance": [],
      "gpuType": "T4",
      "include_colab_link": true
    },
    "kernelspec": {
      "name": "python2",
      "display_name": "Python 2"
    },
    "accelerator": "GPU"
  },
  "cells": [
    {
      "cell_type": "markdown",
      "metadata": {
        "id": "view-in-github",
        "colab_type": "text"
      },
      "source": [
        "<a href=\"https://colab.research.google.com/github/mukeshonlinesiitm/LLM/blob/main/OCRusingTesseract.ipynb\" target=\"_parent\"><img src=\"https://colab.research.google.com/assets/colab-badge.svg\" alt=\"Open In Colab\"/></a>"
      ]
    },
    {
      "metadata": {
        "id": "uWwpI-24_Nob",
        "colab": {
          "base_uri": "https://localhost:8080/"
        },
        "outputId": "6b0e0e4f-9557-40b7-e672-8e357aaa52f0"
      },
      "cell_type": "code",
      "source": [
        "!sudo apt install tesseract-ocr"
      ],
      "execution_count": 4,
      "outputs": [
        {
          "output_type": "stream",
          "name": "stdout",
          "text": [
            "Reading package lists... Done\n",
            "Building dependency tree... Done\n",
            "Reading state information... Done\n",
            "The following additional packages will be installed:\n",
            "  tesseract-ocr-eng tesseract-ocr-osd\n",
            "The following NEW packages will be installed:\n",
            "  tesseract-ocr tesseract-ocr-eng tesseract-ocr-osd\n",
            "0 upgraded, 3 newly installed, 0 to remove and 49 not upgraded.\n",
            "Need to get 4,816 kB of archives.\n",
            "After this operation, 15.6 MB of additional disk space will be used.\n",
            "Get:1 http://archive.ubuntu.com/ubuntu jammy/universe amd64 tesseract-ocr-eng all 1:4.00~git30-7274cfa-1.1 [1,591 kB]\n",
            "Get:2 http://archive.ubuntu.com/ubuntu jammy/universe amd64 tesseract-ocr-osd all 1:4.00~git30-7274cfa-1.1 [2,990 kB]\n",
            "Get:3 http://archive.ubuntu.com/ubuntu jammy/universe amd64 tesseract-ocr amd64 4.1.1-2.1build1 [236 kB]\n",
            "Fetched 4,816 kB in 2s (2,875 kB/s)\n",
            "debconf: unable to initialize frontend: Dialog\n",
            "debconf: (No usable dialog-like program is installed, so the dialog based frontend cannot be used. at /usr/share/perl5/Debconf/FrontEnd/Dialog.pm line 78, <> line 3.)\n",
            "debconf: falling back to frontend: Readline\n",
            "debconf: unable to initialize frontend: Readline\n",
            "debconf: (This frontend requires a controlling tty.)\n",
            "debconf: falling back to frontend: Teletype\n",
            "dpkg-preconfigure: unable to re-open stdin: \n",
            "Selecting previously unselected package tesseract-ocr-eng.\n",
            "(Reading database ... 124565 files and directories currently installed.)\n",
            "Preparing to unpack .../tesseract-ocr-eng_1%3a4.00~git30-7274cfa-1.1_all.deb ...\n",
            "Unpacking tesseract-ocr-eng (1:4.00~git30-7274cfa-1.1) ...\n",
            "Selecting previously unselected package tesseract-ocr-osd.\n",
            "Preparing to unpack .../tesseract-ocr-osd_1%3a4.00~git30-7274cfa-1.1_all.deb ...\n",
            "Unpacking tesseract-ocr-osd (1:4.00~git30-7274cfa-1.1) ...\n",
            "Selecting previously unselected package tesseract-ocr.\n",
            "Preparing to unpack .../tesseract-ocr_4.1.1-2.1build1_amd64.deb ...\n",
            "Unpacking tesseract-ocr (4.1.1-2.1build1) ...\n",
            "Setting up tesseract-ocr-eng (1:4.00~git30-7274cfa-1.1) ...\n",
            "Setting up tesseract-ocr-osd (1:4.00~git30-7274cfa-1.1) ...\n",
            "Setting up tesseract-ocr (4.1.1-2.1build1) ...\n",
            "Processing triggers for man-db (2.10.2-1) ...\n"
          ]
        }
      ]
    },
    {
      "metadata": {
        "id": "ujL16dZ2_O-3",
        "colab": {
          "base_uri": "https://localhost:8080/"
        },
        "outputId": "70cc7c30-fb40-4486-c077-5d8cc959799e"
      },
      "cell_type": "code",
      "source": [
        "!pip install pytesseract"
      ],
      "execution_count": 5,
      "outputs": [
        {
          "output_type": "stream",
          "name": "stdout",
          "text": [
            "Collecting pytesseract\n",
            "  Downloading pytesseract-0.3.13-py3-none-any.whl.metadata (11 kB)\n",
            "Requirement already satisfied: packaging>=21.3 in /usr/local/lib/python3.11/dist-packages (from pytesseract) (24.2)\n",
            "Requirement already satisfied: Pillow>=8.0.0 in /usr/local/lib/python3.11/dist-packages (from pytesseract) (11.1.0)\n",
            "Downloading pytesseract-0.3.13-py3-none-any.whl (14 kB)\n",
            "Installing collected packages: pytesseract\n",
            "Successfully installed pytesseract-0.3.13\n"
          ]
        }
      ]
    },
    {
      "metadata": {
        "id": "QKJh7JjTAqzO"
      },
      "cell_type": "code",
      "source": [
        "import pytesseract\n",
        "import shutil\n",
        "import os\n",
        "import random\n",
        "try:\n",
        "    from PIL import Image\n",
        "except ImportError:\n",
        "    import Image"
      ],
      "execution_count": 6,
      "outputs": []
    },
    {
      "metadata": {
        "id": "8zmc-K_nAyg1",
        "colab": {
          "base_uri": "https://localhost:8080/",
          "height": 177
        },
        "outputId": "0d65aac4-a460-437b-febf-20678048e33f"
      },
      "cell_type": "code",
      "source": [
        "from google.colab import files\n",
        "\n",
        "uploaded = files.upload()"
      ],
      "execution_count": 26,
      "outputs": [
        {
          "output_type": "display_data",
          "data": {
            "text/plain": [
              "<IPython.core.display.HTML object>"
            ],
            "text/html": [
              "\n",
              "     <input type=\"file\" id=\"files-db764b30-2c14-459d-82c2-0ef186677dfe\" name=\"files[]\" multiple disabled\n",
              "        style=\"border:none\" />\n",
              "     <output id=\"result-db764b30-2c14-459d-82c2-0ef186677dfe\">\n",
              "      Upload widget is only available when the cell has been executed in the\n",
              "      current browser session. Please rerun this cell to enable.\n",
              "      </output>\n",
              "      <script>// Copyright 2017 Google LLC\n",
              "//\n",
              "// Licensed under the Apache License, Version 2.0 (the \"License\");\n",
              "// you may not use this file except in compliance with the License.\n",
              "// You may obtain a copy of the License at\n",
              "//\n",
              "//      http://www.apache.org/licenses/LICENSE-2.0\n",
              "//\n",
              "// Unless required by applicable law or agreed to in writing, software\n",
              "// distributed under the License is distributed on an \"AS IS\" BASIS,\n",
              "// WITHOUT WARRANTIES OR CONDITIONS OF ANY KIND, either express or implied.\n",
              "// See the License for the specific language governing permissions and\n",
              "// limitations under the License.\n",
              "\n",
              "/**\n",
              " * @fileoverview Helpers for google.colab Python module.\n",
              " */\n",
              "(function(scope) {\n",
              "function span(text, styleAttributes = {}) {\n",
              "  const element = document.createElement('span');\n",
              "  element.textContent = text;\n",
              "  for (const key of Object.keys(styleAttributes)) {\n",
              "    element.style[key] = styleAttributes[key];\n",
              "  }\n",
              "  return element;\n",
              "}\n",
              "\n",
              "// Max number of bytes which will be uploaded at a time.\n",
              "const MAX_PAYLOAD_SIZE = 100 * 1024;\n",
              "\n",
              "function _uploadFiles(inputId, outputId) {\n",
              "  const steps = uploadFilesStep(inputId, outputId);\n",
              "  const outputElement = document.getElementById(outputId);\n",
              "  // Cache steps on the outputElement to make it available for the next call\n",
              "  // to uploadFilesContinue from Python.\n",
              "  outputElement.steps = steps;\n",
              "\n",
              "  return _uploadFilesContinue(outputId);\n",
              "}\n",
              "\n",
              "// This is roughly an async generator (not supported in the browser yet),\n",
              "// where there are multiple asynchronous steps and the Python side is going\n",
              "// to poll for completion of each step.\n",
              "// This uses a Promise to block the python side on completion of each step,\n",
              "// then passes the result of the previous step as the input to the next step.\n",
              "function _uploadFilesContinue(outputId) {\n",
              "  const outputElement = document.getElementById(outputId);\n",
              "  const steps = outputElement.steps;\n",
              "\n",
              "  const next = steps.next(outputElement.lastPromiseValue);\n",
              "  return Promise.resolve(next.value.promise).then((value) => {\n",
              "    // Cache the last promise value to make it available to the next\n",
              "    // step of the generator.\n",
              "    outputElement.lastPromiseValue = value;\n",
              "    return next.value.response;\n",
              "  });\n",
              "}\n",
              "\n",
              "/**\n",
              " * Generator function which is called between each async step of the upload\n",
              " * process.\n",
              " * @param {string} inputId Element ID of the input file picker element.\n",
              " * @param {string} outputId Element ID of the output display.\n",
              " * @return {!Iterable<!Object>} Iterable of next steps.\n",
              " */\n",
              "function* uploadFilesStep(inputId, outputId) {\n",
              "  const inputElement = document.getElementById(inputId);\n",
              "  inputElement.disabled = false;\n",
              "\n",
              "  const outputElement = document.getElementById(outputId);\n",
              "  outputElement.innerHTML = '';\n",
              "\n",
              "  const pickedPromise = new Promise((resolve) => {\n",
              "    inputElement.addEventListener('change', (e) => {\n",
              "      resolve(e.target.files);\n",
              "    });\n",
              "  });\n",
              "\n",
              "  const cancel = document.createElement('button');\n",
              "  inputElement.parentElement.appendChild(cancel);\n",
              "  cancel.textContent = 'Cancel upload';\n",
              "  const cancelPromise = new Promise((resolve) => {\n",
              "    cancel.onclick = () => {\n",
              "      resolve(null);\n",
              "    };\n",
              "  });\n",
              "\n",
              "  // Wait for the user to pick the files.\n",
              "  const files = yield {\n",
              "    promise: Promise.race([pickedPromise, cancelPromise]),\n",
              "    response: {\n",
              "      action: 'starting',\n",
              "    }\n",
              "  };\n",
              "\n",
              "  cancel.remove();\n",
              "\n",
              "  // Disable the input element since further picks are not allowed.\n",
              "  inputElement.disabled = true;\n",
              "\n",
              "  if (!files) {\n",
              "    return {\n",
              "      response: {\n",
              "        action: 'complete',\n",
              "      }\n",
              "    };\n",
              "  }\n",
              "\n",
              "  for (const file of files) {\n",
              "    const li = document.createElement('li');\n",
              "    li.append(span(file.name, {fontWeight: 'bold'}));\n",
              "    li.append(span(\n",
              "        `(${file.type || 'n/a'}) - ${file.size} bytes, ` +\n",
              "        `last modified: ${\n",
              "            file.lastModifiedDate ? file.lastModifiedDate.toLocaleDateString() :\n",
              "                                    'n/a'} - `));\n",
              "    const percent = span('0% done');\n",
              "    li.appendChild(percent);\n",
              "\n",
              "    outputElement.appendChild(li);\n",
              "\n",
              "    const fileDataPromise = new Promise((resolve) => {\n",
              "      const reader = new FileReader();\n",
              "      reader.onload = (e) => {\n",
              "        resolve(e.target.result);\n",
              "      };\n",
              "      reader.readAsArrayBuffer(file);\n",
              "    });\n",
              "    // Wait for the data to be ready.\n",
              "    let fileData = yield {\n",
              "      promise: fileDataPromise,\n",
              "      response: {\n",
              "        action: 'continue',\n",
              "      }\n",
              "    };\n",
              "\n",
              "    // Use a chunked sending to avoid message size limits. See b/62115660.\n",
              "    let position = 0;\n",
              "    do {\n",
              "      const length = Math.min(fileData.byteLength - position, MAX_PAYLOAD_SIZE);\n",
              "      const chunk = new Uint8Array(fileData, position, length);\n",
              "      position += length;\n",
              "\n",
              "      const base64 = btoa(String.fromCharCode.apply(null, chunk));\n",
              "      yield {\n",
              "        response: {\n",
              "          action: 'append',\n",
              "          file: file.name,\n",
              "          data: base64,\n",
              "        },\n",
              "      };\n",
              "\n",
              "      let percentDone = fileData.byteLength === 0 ?\n",
              "          100 :\n",
              "          Math.round((position / fileData.byteLength) * 100);\n",
              "      percent.textContent = `${percentDone}% done`;\n",
              "\n",
              "    } while (position < fileData.byteLength);\n",
              "  }\n",
              "\n",
              "  // All done.\n",
              "  yield {\n",
              "    response: {\n",
              "      action: 'complete',\n",
              "    }\n",
              "  };\n",
              "}\n",
              "\n",
              "scope.google = scope.google || {};\n",
              "scope.google.colab = scope.google.colab || {};\n",
              "scope.google.colab._files = {\n",
              "  _uploadFiles,\n",
              "  _uploadFilesContinue,\n",
              "};\n",
              "})(self);\n",
              "</script> "
            ]
          },
          "metadata": {}
        },
        {
          "output_type": "stream",
          "name": "stdout",
          "text": [
            "Saving chatgpt.png to chatgpt (1).png\n",
            "Saving MOL_IT_Image.png to MOL_IT_Image (1).png\n",
            "Saving msn.png to msn (1).png\n",
            "Saving sk_learn.png to sk_learn (1).png\n"
          ]
        }
      ]
    },
    {
      "cell_type": "code",
      "source": [
        "for name, data in uploaded.items():\n",
        "  print(name)"
      ],
      "metadata": {
        "colab": {
          "base_uri": "https://localhost:8080/"
        },
        "id": "eeKs_mBkNLrQ",
        "outputId": "935e6d0c-ec25-482c-8162-614e50925859"
      },
      "execution_count": 35,
      "outputs": [
        {
          "output_type": "stream",
          "name": "stdout",
          "text": [
            "chatgpt (1).png\n",
            "MOL_IT_Image (1).png\n",
            "msn (1).png\n",
            "sk_learn (1).png\n"
          ]
        }
      ]
    },
    {
      "cell_type": "code",
      "source": [],
      "metadata": {
        "colab": {
          "base_uri": "https://localhost:8080/"
        },
        "id": "i8zjyJzKOHRn",
        "outputId": "99e7421a-0c19-4e55-8f02-05beaf1d6736"
      },
      "execution_count": 34,
      "outputs": [
        {
          "output_type": "stream",
          "name": "stdout",
          "text": [
            "/tmp/tmpjewq21dw\n"
          ]
        }
      ]
    },
    {
      "metadata": {
        "id": "HaM3cMUDA_Ma"
      },
      "cell_type": "code",
      "source": [
        "extractedInformation = {}\n",
        "for file in ['image_with_url_1.png','image_with_url.png']:\n",
        "  extractedInformation[file] = pytesseract.image_to_string(Image.open(file))"
      ],
      "execution_count": 16,
      "outputs": []
    },
    {
      "cell_type": "code",
      "source": [
        "len(extractedInformation)"
      ],
      "metadata": {
        "colab": {
          "base_uri": "https://localhost:8080/"
        },
        "id": "56NgRC8L_dAK",
        "outputId": "2af87707-a782-4026-8df5-c40c3b1d03f7"
      },
      "execution_count": 17,
      "outputs": [
        {
          "output_type": "execute_result",
          "data": {
            "text/plain": [
              "2"
            ]
          },
          "metadata": {},
          "execution_count": 17
        }
      ]
    },
    {
      "cell_type": "markdown",
      "source": [],
      "metadata": {
        "id": "845lgm9s7_pB"
      }
    },
    {
      "metadata": {
        "id": "Key-3vILBNUd",
        "colab": {
          "base_uri": "https://localhost:8080/"
        },
        "outputId": "0cf7a1c0-3683-4ee8-c639-b9aaa3aed09d",
        "collapsed": true
      },
      "cell_type": "code",
      "source": [
        "print(extractedInformation)"
      ],
      "execution_count": 9,
      "outputs": [
        {
          "output_type": "stream",
          "name": "stdout",
          "text": [
            "YG fresher interview\n",
            "\n",
            "X. | BB) 10 Essential Job\n",
            "\n",
            "x | G exractur text\n",
            "\n",
            "X | €O Unttledsipynd- x | CO URLDetetion fro x | G pytesseractimag: x GB OCRfromimage x CO OCRusingTessers\n",
            "\n",
            "@ $3. bhadreshpsavanimedium.com/how-to-use-tesseract-library-for-ocr-in-google-colab-notebook-5da5470e4fe0\n",
            "\n",
            "x | © chaiger CCW seerets rat\n",
            "\n",
            "BB | © Hadoop © Plot [ ML © MicroSoft (4) Deep Learning (4) Imported From Edge (4 Cluster [Q RNN (9 NPTEL [5 Leaming 3) Home| Your Account (4) Used Car Prediction [4 PCCNet CQ NLP (© IMOS © Azur\n",
            "\n",
            "Medium\n",
            "\n",
            "TTF\n",
            "Haze\n",
            "\n",
            "Q Search\n",
            "\n",
            "> Get unlimited access to the best of Medium for less than $1/week. Become amember\n",
            "\n",
            "OCR from Image using PyTesseract\n",
            "in Python on Colab Notebook?\n",
            "\n",
            "£ Bhadresh Savani - Follow\n",
            "3minread » Mar 22,2019\n",
            "\n",
            " \n",
            "\n",
            " \n",
            "\n",
            "Optical Character Recognition(OCR) has been a popular task in Computer\n",
            "Vision. The popularity is because of its wide range of applications. It can be\n",
            "used for Data Entry for Business, Number Plate Recognition, Automated\n",
            "Passport Recognition, Quick Document Verification, oT Application, Task\n",
            "Automation, and many more. Basically, any application which has a need to\n",
            "extract text from an image.\n",
            "\n",
            "“a epourea@ee\n",
            "\n",
            " \n",
            "\n",
            "      \n",
            "\n",
            " \n",
            "\n",
            "(Transfer Learning\n",
            "\n",
            "x i+\n",
            "\n",
            "- ao x\n",
            "\n",
            "* a0 £910\n",
            "\n",
            "© Kids\n",
            "\n",
            "[A write\n",
            "\n",
            "»\n",
            "\n",
            " \n",
            "\n",
            "© All Bookmarks\n",
            "\n",
            "1557\n",
            "16-01-2025\n",
            "\f\n"
          ]
        }
      ]
    },
    {
      "cell_type": "code",
      "source": [
        "import re\n",
        "\n",
        "url_pattern = r\"https?://\\S+|\\S+\\.com(?:/\\S+)?\"\n",
        "\n",
        "# Split text into lines\n",
        "for f_name ,f_data in extractedInformation.items():\n",
        "  lines = f_data.splitlines()\n",
        "  # Find lines containing URLs\n",
        "  lines_with_urls = [line for line in lines if re.search(url_pattern, line)]\n",
        "  print(lines_with_urls)"
      ],
      "metadata": {
        "colab": {
          "base_uri": "https://localhost:8080/"
        },
        "id": "X3MZ23O6o-bH",
        "outputId": "02535a42-9f63-49af-e4a1-1599aa77f72d"
      },
      "execution_count": 22,
      "outputs": [
        {
          "output_type": "stream",
          "name": "stdout",
          "text": [
            "['@ $3. bhadreshpsavanimedium.com/how-to-use-tesseract-library-for-ocr-in-google-colab-notebook-5da5470e4fe0']\n",
            "['€ > CG 3 atlassian.com/work-management/project-management/project-life-cycle xy oo 4910']\n"
          ]
        }
      ]
    },
    {
      "cell_type": "code",
      "source": [
        "for f_name ,f_data in extractedInformation.items():\n",
        "  print(f_data)"
      ],
      "metadata": {
        "colab": {
          "base_uri": "https://localhost:8080/"
        },
        "id": "zNnPYu_4KbSt",
        "outputId": "82b89725-b072-4203-e4e3-41af0e022380"
      },
      "execution_count": 21,
      "outputs": [
        {
          "output_type": "stream",
          "name": "stdout",
          "text": [
            "YG fresher interview\n",
            "\n",
            "X. | BB) 10 Essential Job\n",
            "\n",
            "x | G exractur text\n",
            "\n",
            "X | €O Unttledsipynd- x | CO URLDetetion fro x | G pytesseractimag: x GB OCRfromimage x CO OCRusingTessers\n",
            "\n",
            "@ $3. bhadreshpsavanimedium.com/how-to-use-tesseract-library-for-ocr-in-google-colab-notebook-5da5470e4fe0\n",
            "\n",
            "x | © chaiger CCW seerets rat\n",
            "\n",
            "BB | © Hadoop © Plot [ ML © MicroSoft (4) Deep Learning (4) Imported From Edge (4 Cluster [Q RNN (9 NPTEL [5 Leaming 3) Home| Your Account (4) Used Car Prediction [4 PCCNet CQ NLP (© IMOS © Azur\n",
            "\n",
            "Medium\n",
            "\n",
            "TTF\n",
            "Haze\n",
            "\n",
            "Q Search\n",
            "\n",
            "> Get unlimited access to the best of Medium for less than $1/week. Become amember\n",
            "\n",
            "OCR from Image using PyTesseract\n",
            "in Python on Colab Notebook?\n",
            "\n",
            "£ Bhadresh Savani - Follow\n",
            "3minread » Mar 22,2019\n",
            "\n",
            " \n",
            "\n",
            " \n",
            "\n",
            "Optical Character Recognition(OCR) has been a popular task in Computer\n",
            "Vision. The popularity is because of its wide range of applications. It can be\n",
            "used for Data Entry for Business, Number Plate Recognition, Automated\n",
            "Passport Recognition, Quick Document Verification, oT Application, Task\n",
            "Automation, and many more. Basically, any application which has a need to\n",
            "extract text from an image.\n",
            "\n",
            "“a epourea@ee\n",
            "\n",
            " \n",
            "\n",
            "      \n",
            "\n",
            " \n",
            "\n",
            "(Transfer Learning\n",
            "\n",
            "x i+\n",
            "\n",
            "- ao x\n",
            "\n",
            "* a0 £910\n",
            "\n",
            "© Kids\n",
            "\n",
            "[A write\n",
            "\n",
            "»\n",
            "\n",
            " \n",
            "\n",
            "© All Bookmarks\n",
            "\n",
            "1557\n",
            "16-01-2025\n",
            "\f\n",
            "YA Project Life Cycle [Phases & Be XG fresherinterview advice -Gooo % | BB] 10€ssentialob Interview Tips’ x | G extracturltext from image usir X | CO UntitledSipynb - Colab X | CO URLDetetion from imageipyn X | + - o x\n",
            "\n",
            "€ > CG 3 atlassian.com/work-management/project-management/project-life-cycle xy oo 4910\n",
            "\n",
            "BB | © Hadoop © Plot [ ML (© MicroSoft (4) Deep Learning (4) Imported From Edge (4 Cluster CQ RNN (4 NPTEL [5 Leaming 3) Home| Your Account [4 Used Car Prediction [Q PCCNet CQ NLP [ IMOS (9 Azur © TransferLeaming (9 Kids » © All Bookmarks\n",
            "\n",
            "AA ATLASSIAN | products ¥ Teams ¥ ~~ WhyAtlassian ¥ Resources ¥ Enterprise C= Q © signin\n",
            "\n",
            "Transform teamwork with Confluence. See why Confluence is the content collaboration hub for all teams. Get it free x\n",
            "\n",
            "The Workstream / Project management / Project life cycle\n",
            "\n",
            " \n",
            "\n",
            "RACI Chart Whether you're building an app or overhauling your branding strategy, effective project\n",
            "management is crucial. One key to success is understanding the project life cycle—a series\n",
            "\n",
            "Process Flow Chart of stages that a project goes through from start to finish. YOU MAY ALSO LIKE\n",
            "\n",
            "Decision-making process . . . . oo. . . .\n",
            "The life cycle includes five main stages: initiation, planning, execution, monitoring and\n",
            "\n",
            "Work breakdown structure control, and closure. Monitoring each phase helps ensure the project stays on time and\n",
            "\n",
            "within budget. PROJECT POSTER TEMPLATE\n",
            "Proof of concept\n",
            "\n",
            "+ Project life cycle This article defines the project life cycle stages, reviews the three main types of life cycles, A collaborative one Page ten wees\n",
            "and discusses how project management tools such as Jira can streamline and enhance your project team and stakeholders\n",
            "Project design each stage of the process. aligned.\n",
            "Solutions Tryit>\n",
            "Flowcharts.\n",
            "\n",
            "fainted\n",
            "\n",
            "What is the project life cycle?\n",
            "\n",
            "Up Next\n",
            "Project design >\n",
            "\n",
            "ata BPeOSOuULECHR PE corns\n",
            "\n",
            " \n",
            "\n",
            "re\n",
            "\n",
            " \n",
            "\f\n"
          ]
        }
      ]
    },
    {
      "cell_type": "code",
      "source": [
        "lines_with_urls"
      ],
      "metadata": {
        "colab": {
          "base_uri": "https://localhost:8080/"
        },
        "id": "nvfZR3g57wX7",
        "outputId": "91454062-fff4-459a-867c-8668e74cdbab"
      },
      "execution_count": 13,
      "outputs": [
        {
          "output_type": "execute_result",
          "data": {
            "text/plain": [
              "['@ $3. bhadreshpsavanimedium.com/how-to-use-tesseract-library-for-ocr-in-google-colab-notebook-5da5470e4fe0']"
            ]
          },
          "metadata": {},
          "execution_count": 13
        }
      ]
    }
  ]
}